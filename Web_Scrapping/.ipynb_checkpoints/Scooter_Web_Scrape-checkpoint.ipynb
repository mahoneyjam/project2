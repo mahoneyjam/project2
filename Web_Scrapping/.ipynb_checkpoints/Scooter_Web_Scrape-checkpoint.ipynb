{
 "cells": [
  {
   "cell_type": "markdown",
   "metadata": {},
   "source": [
    "# Images"
   ]
  },
  {
   "cell_type": "code",
   "execution_count": 1,
   "metadata": {},
   "outputs": [],
   "source": [
    "# Dependencies\n",
    "from bs4 import BeautifulSoup\n",
    "import requests\n",
    "import pandas as pd\n",
    "from splinter import Browser"
   ]
  },
  {
   "cell_type": "code",
   "execution_count": 2,
   "metadata": {},
   "outputs": [],
   "source": [
    "executable_path = {'C:/Users/admin/HW/project2/Web_Scrapping': 'chromedriver.exe'}\n",
    "browser = Browser('chrome', 'C:/Users/admin/Anaconda3/Lib/site-packages/splinter', headless=False)"
   ]
  },
  {
   "cell_type": "code",
   "execution_count": 3,
   "metadata": {},
   "outputs": [],
   "source": [
    "# Master dictitonary for all variables\n",
    "scooter_dict = {}"
   ]
  },
  {
   "cell_type": "code",
   "execution_count": 4,
   "metadata": {},
   "outputs": [],
   "source": [
    "# URLs of pages to be scraped\n",
    "image_url = 'https://www.chicago.gov/city/en/depts/cdot/supp_info/escooter-share-pilot-project.html'"
   ]
  },
  {
   "cell_type": "code",
   "execution_count": 5,
   "metadata": {},
   "outputs": [],
   "source": [
    "# Visit image url\n",
    "browser.visit(image_url)\n",
    "\n",
    "# HTML object\n",
    "html = browser.html\n",
    "\n",
    "# Parse HTML with Beautiful Soup\n",
    "soup = BeautifulSoup(html, 'html.parser')"
   ]
  },
  {
   "cell_type": "code",
   "execution_count": 6,
   "metadata": {},
   "outputs": [
    {
     "data": {
      "text/plain": [
       "{'scooter_url': 'https://www.chicago.gov/content/dam/city/depts/cdot/Misc/EScooters/E-Scooter.PNG'}"
      ]
     },
     "execution_count": 6,
     "metadata": {},
     "output_type": "execute_result"
    }
   ],
   "source": [
    "# Retrieve all elements that contain featured image\n",
    "scooter = soup.find('div', class_='container-fluid page-full-description-above')\n",
    "# print(feature.a.img[\"src\"])\n",
    "\n",
    "scooter_href = scooter.p.img[\"src\"]\n",
    "# scooter_href\n",
    "\n",
    "scooter_url = ('https://www.chicago.gov' + scooter_href)\n",
    "# print(scooter_url)\n",
    "\n",
    "# paragraph = scooter.div.p.text\n",
    "# print(paragraph)\n",
    "\n",
    "# Add image to master dictionary\n",
    "scooter_dict['scooter_url']= scooter_url\n",
    "# scooter_dict['paragraph']= paragraph\n",
    "scooter_dict"
   ]
  },
  {
   "cell_type": "code",
   "execution_count": 8,
   "metadata": {},
   "outputs": [],
   "source": [
    "# URLs of pages to be scraped\n",
    "dos_donts_url = 'https://chi.streetsblog.org/2019/06/11/ready-or-not-10-different-scooter-companies-hit-the-streets-starting-saturday/'"
   ]
  },
  {
   "cell_type": "code",
   "execution_count": 9,
   "metadata": {},
   "outputs": [],
   "source": [
    "# Visit image url\n",
    "browser.visit(dos_donts_url)\n",
    "\n",
    "# HTML object\n",
    "html = browser.html\n",
    "\n",
    "# Parse HTML with Beautiful Soup\n",
    "soup = BeautifulSoup(html, 'html.parser')"
   ]
  },
  {
   "cell_type": "code",
   "execution_count": 10,
   "metadata": {},
   "outputs": [
    {
     "data": {
      "text/plain": [
       "'https://i1.wp.com/chi.streetsblog.org/wp-content/uploads/sites/4/2019/06/Screen-Shot-2019-06-11-at-3.16.09-PM.png?w=800&ssl=1'"
      ]
     },
     "execution_count": 10,
     "metadata": {},
     "output_type": "execute_result"
    }
   ],
   "source": [
    "# Retrieve all elements that contain Dos & Don'ts image\n",
    "\n",
    "dos_donts = soup.find('div', class_='entry-thumbnail')\n",
    "dos_donts\n",
    "\n",
    "dos_donts_href = dos_donts.picture.img[\"srcset\"]\n",
    "dos_donts_href\n",
    "\n",
    "# dos_donts_url = ('https://chi.streetsblog.org' + dos_donts_href)\n",
    "# # print(dos_donts_url)\n",
    "\n",
    "# # Add image to master dictionary\n",
    "# scooter_dict['dos_donts_url']= dos_donts_url\n",
    "# scooter_dict"
   ]
  },
  {
   "cell_type": "code",
   "execution_count": null,
   "metadata": {},
   "outputs": [],
   "source": []
  }
 ],
 "metadata": {
  "kernelspec": {
   "display_name": "Python 3",
   "language": "python",
   "name": "python3"
  },
  "language_info": {
   "codemirror_mode": {
    "name": "ipython",
    "version": 3
   },
   "file_extension": ".py",
   "mimetype": "text/x-python",
   "name": "python",
   "nbconvert_exporter": "python",
   "pygments_lexer": "ipython3",
   "version": "3.7.4"
  }
 },
 "nbformat": 4,
 "nbformat_minor": 4
}
