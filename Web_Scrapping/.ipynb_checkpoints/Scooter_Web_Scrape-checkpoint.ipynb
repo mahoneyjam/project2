{
 "cells": [
  {
   "cell_type": "code",
   "execution_count": 1,
   "metadata": {},
   "outputs": [],
   "source": [
    "# Dependencies\n",
    "from bs4 import BeautifulSoup\n",
    "import requests\n",
    "import pandas as pd\n",
    "from splinter import Browser"
   ]
  },
  {
   "cell_type": "code",
   "execution_count": 2,
   "metadata": {},
   "outputs": [],
   "source": [
    "executable_path = {'C:/Users/admin/HW/project2/Web_Scrapping': 'chromedriver.exe'}\n",
    "browser = Browser('chrome', 'C:/Users/admin/Anaconda3/Lib/site-packages/splinter', headless=False)"
   ]
  },
  {
   "cell_type": "code",
   "execution_count": 3,
   "metadata": {},
   "outputs": [],
   "source": [
    "# Master dictitonary for all variables\n",
    "scooter_dict = {}"
   ]
  },
  {
   "cell_type": "code",
   "execution_count": 4,
   "metadata": {},
   "outputs": [],
   "source": [
    "# URLs of pages to be scraped\n",
    "image_url = 'https://www.chicago.gov/city/en/depts/cdot/supp_info/escooter-share-pilot-project.html'"
   ]
  },
  {
   "cell_type": "code",
   "execution_count": 5,
   "metadata": {},
   "outputs": [],
   "source": [
    "# Visit image url\n",
    "browser.visit(image_url)\n",
    "\n",
    "# HTML object\n",
    "html = browser.html\n",
    "\n",
    "# Parse HTML with Beautiful Soup\n",
    "soup = BeautifulSoup(html, 'html.parser')"
   ]
  },
  {
   "cell_type": "code",
   "execution_count": 19,
   "metadata": {},
   "outputs": [
    {
     "data": {
      "text/plain": [
       "{'scooter_url': 'https://www.chicago.gov/content/dam/city/depts/cdot/Misc/EScooters/E-Scooter.PNG'}"
      ]
     },
     "execution_count": 19,
     "metadata": {},
     "output_type": "execute_result"
    }
   ],
   "source": [
    "# Retrieve all elements that contain featured image\n",
    "\n",
    "scooter = soup.find('div', class_='container-fluid page-full-description-above')\n",
    "# print(feature.a.img[\"src\"])\n",
    "\n",
    "scooter_href = scooter.p.img[\"src\"]\n",
    "# scooter_href\n",
    "\n",
    "scooter_url = ('https://www.chicago.gov' + scooter_href)\n",
    "# print(scooter_url)\n",
    "\n",
    "# Add image to master dictionary\n",
    "scooter_dict['scooter_url']= scooter_url\n",
    "scooter_dict"
   ]
  },
  {
   "cell_type": "code",
   "execution_count": null,
   "metadata": {},
   "outputs": [],
   "source": []
  },
  {
   "cell_type": "code",
   "execution_count": null,
   "metadata": {},
   "outputs": [],
   "source": []
  }
 ],
 "metadata": {
  "kernelspec": {
   "display_name": "Python 3",
   "language": "python",
   "name": "python3"
  },
  "language_info": {
   "codemirror_mode": {
    "name": "ipython",
    "version": 3
   },
   "file_extension": ".py",
   "mimetype": "text/x-python",
   "name": "python",
   "nbconvert_exporter": "python",
   "pygments_lexer": "ipython3",
   "version": "3.7.4"
  }
 },
 "nbformat": 4,
 "nbformat_minor": 4
}
